{
 "cells": [
  {
   "cell_type": "markdown",
   "id": "dc28eb4e-8044-4ecb-90c0-d84b6b4d6f57",
   "metadata": {},
   "source": [
    "##### Q1. Which keyword is used to create a function? Create a function to return a list of odd numbers in the range of 1 to 25."
   ]
  },
  {
   "cell_type": "code",
   "execution_count": 8,
   "id": "9e9b3d64-38f8-4f35-9846-4813c36d4861",
   "metadata": {},
   "outputs": [
    {
     "data": {
      "text/plain": [
       "[1, 3, 5, 7, 9, 11, 13, 15, 17, 19, 21, 23, 25]"
      ]
     },
     "execution_count": 8,
     "metadata": {},
     "output_type": "execute_result"
    }
   ],
   "source": [
    "# usaly we use \"def\" keyword for creating function \n",
    "\n",
    "def odd_no():\n",
    "    a = [i for i in range(1,26) if i % 2 != 0]\n",
    "    return a \n",
    "odd_no()\n"
   ]
  },
  {
   "cell_type": "markdown",
   "id": "dc72bb3a-ceef-4c03-99c6-7922a324cc78",
   "metadata": {},
   "source": [
    "##### Q2. Why *args and **kwargs is used in some functions? Create a function each for *args and **kwargs to demonstrate their use."
   ]
  },
  {
   "cell_type": "code",
   "execution_count": 10,
   "id": "ed88ef1d-802f-4831-8a02-ad6c4b2507f6",
   "metadata": {},
   "outputs": [
    {
     "name": "stdout",
     "output_type": "stream",
     "text": [
      "Positional arguments: (1, 2, 3)\n",
      "Keyword arguments: {'name': 'Rabbani', 'age': 90}\n"
     ]
    }
   ],
   "source": [
    "'''In Python, *args and **kwargs are used to allow a function to accept a variable number of arguments.\n",
    "\n",
    "*args is used to pass a variable number of non-keyword (positional) arguments to a function.\n",
    "**kwargs is used to pass a variable number of keyword arguments to a function.'''\n",
    "\n",
    "def flexible_function(*args, **kwargs):\n",
    "    print(\"Positional arguments:\", args)\n",
    "    print(\"Keyword arguments:\", kwargs)\n",
    "\n",
    "flexible_function(1, 2, 3, name=\"Rabbani\", age=90)\n"
   ]
  },
  {
   "cell_type": "markdown",
   "id": "c66622de-f7b9-4a22-8980-5e739a5bba6a",
   "metadata": {},
   "source": [
    "##### '''Q3.  What is an iterator in python? Name the method used to initialise the iterator object and the method\n",
    "##### used for iteration. Use these methods to print the first five elements of the given list [2, 4, 6, 8, 10, 12, 14, 16, 18, 20]."
   ]
  },
  {
   "cell_type": "code",
   "execution_count": 11,
   "id": "649640d6-3308-487b-aa29-adfffbf362ce",
   "metadata": {},
   "outputs": [
    {
     "name": "stdout",
     "output_type": "stream",
     "text": [
      "2\n",
      "4\n",
      "6\n",
      "8\n",
      "10\n"
     ]
    }
   ],
   "source": [
    "'''\n",
    "\n",
    "iter(my_list)=  initializes an iterator object from the list.\n",
    "next(my_iterator)= is used to retrieve the next element from the iterator during each iteration of the loop.'''\n",
    "\n",
    "my_list = [2, 4, 6, 8, 10, 12, 14, 16, 18, 20]\n",
    "iterator = iter(my_list)\n",
    "\n",
    "for i in range(5):\n",
    "    a = next(iterator)\n",
    "    print(a)\n"
   ]
  },
  {
   "cell_type": "markdown",
   "id": "a6d9d4b3-362d-41f7-b3e1-537539b1288e",
   "metadata": {},
   "source": [
    "##### Q4.  What is a generator function in python? Why yield keyword is used? Give an example of a generator function."
   ]
  },
  {
   "cell_type": "code",
   "execution_count": 19,
   "id": "dc322678-b951-4d17-8336-3f0578031e23",
   "metadata": {},
   "outputs": [
    {
     "name": "stdout",
     "output_type": "stream",
     "text": [
      "0\n",
      "1\n",
      "4\n",
      "9\n",
      "16\n"
     ]
    }
   ],
   "source": [
    "'''A generator function in Python is a special type of function that allows you to iterate over a potentially large sequence of values\n",
    "without creating the entire sequence in memory at once. \n",
    "Instead of using return to produce a single result,\n",
    "a generator function uses the yield keyword to produce a series of values\n",
    "\n",
    "The state of the generator function is maintained between successive yield statements.'''\n",
    "\n",
    "def square_numbers(n):\n",
    "    for i in range(n):\n",
    "        yield i ** 2\n",
    "\n",
    "# Example usage\n",
    "a = square_numbers(5)\n",
    "\n",
    "for result in a:\n",
    "    print(result)"
   ]
  },
  {
   "cell_type": "markdown",
   "id": "15056e02-a818-402d-b63a-d5acebc973aa",
   "metadata": {},
   "source": [
    "##### Q5. Create a generator function for prime numbers less than 1000. Use the next() method to print the first 20 prime numbers."
   ]
  },
  {
   "cell_type": "code",
   "execution_count": 31,
   "id": "677326e7-cdd8-4b03-b8c5-11b23c443175",
   "metadata": {},
   "outputs": [
    {
     "name": "stdout",
     "output_type": "stream",
     "text": [
      "2\n",
      "3\n",
      "5\n",
      "7\n",
      "11\n",
      "13\n",
      "17\n",
      "19\n",
      "23\n",
      "29\n",
      "31\n",
      "37\n",
      "41\n",
      "43\n",
      "47\n",
      "53\n",
      "59\n",
      "61\n",
      "67\n",
      "71\n"
     ]
    }
   ],
   "source": [
    "def is_prime(num):\n",
    "    if num < 2:\n",
    "        return False\n",
    "    for i in range(2, int(num**0.5) + 1):\n",
    "        if num % i == 0:\n",
    "            return False\n",
    "    return True\n",
    "\n",
    "def generate_primes():\n",
    "    num = 2\n",
    "    while num < 1000:\n",
    "        if is_prime(num):\n",
    "            yield num\n",
    "        num += 1\n",
    "\n",
    "prime_generator = generate_primes()\n",
    "\n",
    "for _ in range(20):\n",
    "    prime = next(prime_generator)\n",
    "    print(prime)"
   ]
  },
  {
   "cell_type": "markdown",
   "id": "2818c1ab-be02-4d47-9ea7-118e7965961a",
   "metadata": {},
   "source": [
    "##### Q6. Write a python program to print the first 10 Fibonacci numbers using a while loop."
   ]
  },
  {
   "cell_type": "code",
   "execution_count": 21,
   "id": "133eb3f1-b41a-4a0b-9ec7-05ca7a696925",
   "metadata": {},
   "outputs": [
    {
     "name": "stdout",
     "output_type": "stream",
     "text": [
      "0,1,2,4,8,"
     ]
    }
   ],
   "source": [
    "a,b = 0, 1 \n",
    "while a <= 10:\n",
    "    print(a, end = ',')\n",
    "    a = b\n",
    "    b = a + b"
   ]
  },
  {
   "cell_type": "markdown",
   "id": "4936300f-3e68-4265-9d5f-bc793e806eea",
   "metadata": {},
   "source": [
    "##### Q7. Write a List Comprehension to iterate through the given string: ‘pwskills’. Expected output: ['p', 'w', 's', 'k', 'i', 'l', 'l', 's'] "
   ]
  },
  {
   "cell_type": "code",
   "execution_count": 30,
   "id": "e71e4599-c0d6-423d-a86f-130c85469d87",
   "metadata": {},
   "outputs": [
    {
     "name": "stdout",
     "output_type": "stream",
     "text": [
      "['p', 'w', 's', 'k', 'i', 'l', 'l', 's']"
     ]
    }
   ],
   "source": [
    "input_string = 'pwskills'\n",
    "\n",
    "result = [i for i in input_string]\n",
    "\n",
    "print(result, end ='')"
   ]
  },
  {
   "cell_type": "markdown",
   "id": "61759efd-ff03-4d84-a6ae-08808c45bb04",
   "metadata": {},
   "source": [
    "##### Q8. Write a python program to check whether a given number is Palindrome or not using a while loop."
   ]
  },
  {
   "cell_type": "code",
   "execution_count": 27,
   "id": "37958e2a-a0c9-46a8-a3b4-49602846bf3b",
   "metadata": {},
   "outputs": [
    {
     "name": "stdin",
     "output_type": "stream",
     "text": [
      "Enter a number:  121\n"
     ]
    },
    {
     "name": "stdout",
     "output_type": "stream",
     "text": [
      "its a palindrome.\n"
     ]
    }
   ],
   "source": [
    "def is_palindrome(number):\n",
    "    original_number = number\n",
    "    reversed_number = 0\n",
    "    \n",
    "    while number > 0:\n",
    "        reversed_number = reversed_number * 10 + number % 10\n",
    "        number //= 10\n",
    "\n",
    "    return original_number == reversed_number\n",
    "\n",
    "# Get input from the user\n",
    "num = int(input(\"Enter a number: \"))\n",
    "\n",
    "# Check if the number is a palindrome\n",
    "if is_palindrome(num):\n",
    "    print(\"its a palindrome.\")\n",
    "else:\n",
    "    print(\"it is not a palindrome.\")\n"
   ]
  },
  {
   "cell_type": "markdown",
   "id": "aac7dfeb-d893-4fcd-8ab1-33267dbf1040",
   "metadata": {},
   "source": [
    "##### Q9. Write a code to print odd numbers from 1 to 100 using list comprehension.\n",
    "\n",
    "##### Note: Use a list comprehension to create a list from 1 to 100 and use another List comprehension to filter out odd numbers."
   ]
  },
  {
   "cell_type": "code",
   "execution_count": 28,
   "id": "9daf6fee-8d10-4b71-9e21-52d2dc2759c3",
   "metadata": {},
   "outputs": [
    {
     "name": "stdout",
     "output_type": "stream",
     "text": [
      "[1, 3, 5, 7, 9, 11, 13, 15, 17, 19, 21, 23, 25, 27, 29, 31, 33, 35, 37, 39, 41, 43, 45, 47, 49, 51, 53, 55, 57, 59, 61, 63, 65, 67, 69, 71, 73, 75, 77, 79, 81, 83, 85, 87, 89, 91, 93, 95, 97, 99]\n"
     ]
    }
   ],
   "source": [
    "numbers = [num for num in range(1, 101)]\n",
    "odd_numbers = [num for num in numbers if num % 2 != 0]\n",
    "\n",
    "print(odd_numbers)"
   ]
  },
  {
   "cell_type": "code",
   "execution_count": null,
   "id": "4041ab25-1bf5-4b47-8b2a-ce7770efd197",
   "metadata": {},
   "outputs": [],
   "source": []
  }
 ],
 "metadata": {
  "kernelspec": {
   "display_name": "Python 3 (ipykernel)",
   "language": "python",
   "name": "python3"
  },
  "language_info": {
   "codemirror_mode": {
    "name": "ipython",
    "version": 3
   },
   "file_extension": ".py",
   "mimetype": "text/x-python",
   "name": "python",
   "nbconvert_exporter": "python",
   "pygments_lexer": "ipython3",
   "version": "3.10.8"
  }
 },
 "nbformat": 4,
 "nbformat_minor": 5
}
